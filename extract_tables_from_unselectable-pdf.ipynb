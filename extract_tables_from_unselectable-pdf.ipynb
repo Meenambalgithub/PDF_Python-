{
 "cells": [
  {
   "cell_type": "code",
   "execution_count": null,
   "metadata": {},
   "outputs": [],
   "source": [
    "import tabula\n",
    "import os\n",
    "import pandas as pd"
   ]
  },
  {
   "cell_type": "code",
   "execution_count": null,
   "metadata": {},
   "outputs": [],
   "source": [
    "import PyPDF2\n",
    "import fitz\n",
    "import io\n",
    "from PIL import Image"
   ]
  },
  {
   "cell_type": "code",
   "execution_count": null,
   "metadata": {},
   "outputs": [],
   "source": [
    "import numpy as np\n",
    "import csv\n",
    "import pytesseract"
   ]
  },
  {
   "cell_type": "code",
   "execution_count": null,
   "metadata": {},
   "outputs": [],
   "source": [
    "\n",
    "pytesseract.pytesseract.tesseract_cmd = r'C:\\Users\\ELCOT\\anaconda3\\Lib\\site-packages\\tesseract'"
   ]
  },
  {
   "cell_type": "code",
   "execution_count": null,
   "metadata": {},
   "outputs": [],
   "source": [
    "pytesseract.pytesseract.tesseract_cmd = r\"C:\\Program Files\\Tesseract-OCR\\tesseract\""
   ]
  },
  {
   "cell_type": "code",
   "execution_count": null,
   "metadata": {},
   "outputs": [],
   "source": [
    "file1=open('ENTER THE FILE PATH','rb')\n",
    "file2=fitz.open(file1)"
   ]
  },
  {
   "cell_type": "markdown",
   "metadata": {},
   "source": [
    "# Extract tables By giving path of file"
   ]
  },
  {
   "cell_type": "markdown",
   "metadata": {},
   "source": [
    "# Extract image from pdf"
   ]
  },
  {
   "cell_type": "code",
   "execution_count": null,
   "metadata": {},
   "outputs": [],
   "source": [
    "import sys, fitz  # import the binding\n",
    "fname = sys.argv[1]  # get filename from command line\n",
    "doc = fitz.open(file1)  # open document\n",
    "for page in doc:  # iterate through the pages\n",
    "    zoom_x = 2.0  # horizontal zoom\n",
    "    zoom_y = 2.0  # vertical zoom\n",
    "    mat = fitz.Matrix(zoom_x, zoom_y)  # zoom factor 2 in each dimension\n",
    "    pix = page.get_pixmap(matrix=mat) # render page to an image\n",
    "    #print(pix)\n",
    "    pix.save(\"img_%i.png\" % page.number)  \n"
   ]
  },
  {
   "cell_type": "markdown",
   "metadata": {},
   "source": [
    "# Convert img to selectable pdf"
   ]
  },
  {
   "cell_type": "code",
   "execution_count": null,
   "metadata": {},
   "outputs": [],
   "source": [
    "pdf = pytesseract.image_to_pdf_or_hocr('ENTER THE IMAGE PATH', extension='pdf')\n",
    "with open('test1.pdf', 'w+b') as f:\n",
    "    f.write(pdf)\n",
    "pdf = pytesseract.image_to_pdf_or_hocr('ENTER THE IMAGE PATH', extension='pdf')\n",
    "with open('test2.pdf', 'w+b') as f:\n",
    "    f.write(pdf) \n",
    "pdf = pytesseract.image_to_pdf_or_hocr('ENTER THE IMAGE PATH', extension='pdf')\n",
    "with open('test3.pdf', 'w+b') as f:\n",
    "    f.write(pdf) \n",
    "pdf = pytesseract.image_to_pdf_or_hocr('ENTER THE IMAGE PATH', extension='pdf')\n",
    "with open('test4.pdf', 'w+b') as f:\n",
    "    f.write(pdf) \n",
    "pdf = pytesseract.image_to_pdf_or_hocr('ENTER THE IMAGE PATH', extension='pdf')\n",
    "with open('test5.pdf', 'w+b') as f:\n",
    "    f.write(pdf) \n"
   ]
  },
  {
   "cell_type": "markdown",
   "metadata": {},
   "source": [
    "# Combine all single pdfs"
   ]
  },
  {
   "cell_type": "code",
   "execution_count": null,
   "metadata": {},
   "outputs": [],
   "source": [
    "file1=open(r'C:\\Users\\ELCOT\\Desktop\\python\\test1.pdf','rb')\n",
    "file2=open(r'C:\\Users\\ELCOT\\Desktop\\python\\test2.pdf','rb')\n",
    "file3=open(r'C:\\Users\\ELCOT\\Desktop\\python\\test3.pdf','rb')\n",
    "file4=open(r'C:\\Users\\ELCOT\\Desktop\\python\\test4.pdf','rb')\n",
    "file5=open(r'C:\\Users\\ELCOT\\Desktop\\python\\test5.pdf','rb')"
   ]
  },
  {
   "cell_type": "code",
   "execution_count": null,
   "metadata": {},
   "outputs": [],
   "source": [
    "from PyPDF2 import PdfFileMerger\n",
    "pdfs=[file1,file2,file3,file4,file5]\n",
    "\n",
    "\n",
    "merger = PdfFileMerger()\n",
    "\n",
    "for pdf in pdfs:\n",
    "    merger.append(pdf)\n",
    "\n",
    "merger.write(\"new.pdf\")\n",
    "merger.close()"
   ]
  },
  {
   "cell_type": "markdown",
   "metadata": {},
   "source": [
    "# Extract tables from pdfs"
   ]
  },
  {
   "cell_type": "code",
   "execution_count": null,
   "metadata": {},
   "outputs": [],
   "source": [
    "df1 = tabula.read_pdf(r\"C:\\Users\\ELCOT\\Desktop\\python\\new.pdf\", pages =3,multiple_tables=True, stream = True,pandas_options={'header':None})[1]\n",
    "df1=df1.drop({0,1,2,3})\n",
    "new_header = df1.iloc[0] #grab the first row for the header\n",
    "df1 = df1[1:] #take the data less the header row\n",
    "df1.columns = new_header \n",
    "df1 = df1.iloc[:,:-2]\n",
    "df1.dropna(subset = [\"Speed\"], inplace=True)\n",
    "df1=df1.reset_index()\n",
    "df1.drop('index', inplace=True, axis=1)\n",
    "df1"
   ]
  },
  {
   "cell_type": "code",
   "execution_count": null,
   "metadata": {},
   "outputs": [],
   "source": [
    "df1.to_excel(\"EoHFC_60 Month term_Basic cos.xlsx\")"
   ]
  },
  {
   "cell_type": "markdown",
   "metadata": {},
   "source": [
    "# Binar data input"
   ]
  },
  {
   "cell_type": "markdown",
   "metadata": {},
   "source": [
    "# Using PIL library but doesn't work properly"
   ]
  },
  {
   "cell_type": "code",
   "execution_count": null,
   "metadata": {},
   "outputs": [],
   "source": [
    "from PIL import Image\n",
    "from PyPDF2 import PdfFileMerger\n",
    "import pytesseract\n",
    "import sys\n",
    "from pdf2image import convert_from_path\n",
    "import os\n",
    "from io import BytesIO\n",
    "\n",
    "PDF_file = r'C:\\Users\\ELCOT\\Downloads\\Amendment 7.pdf'\n",
    "# Store all the pages of the PDF in a variable\n",
    "pages = convert_from_path(PDF_file, 500,poppler_path=r\"C:\\Users\\ELCOT\\Downloads\\poppler-0.68.0\\bin\")\n",
    "#print(pages)\n",
    "d={}\n",
    "for i, val in enumerate(pages):\n",
    "     d[\"pdf{0}\".format(i)]= pytesseract.image_to_pdf_or_hocr(val)\n",
    "    "
   ]
  },
  {
   "cell_type": "code",
   "execution_count": null,
   "metadata": {},
   "outputs": [],
   "source": [
    "from PyPDF2 import PdfFileMerger\n",
    "pdfs=[d['pdf0'],d['pdf1'],d['pdf2'],d['pdf3'],d['pdf4']]\n",
    "\n",
    "\n",
    "merger = PdfFileMerger()\n",
    "\n",
    "for pdf in pdfs:\n",
    "    merger.append(BytesIO(pdf))\n",
    "merger.write(\"new10.pdf\")"
   ]
  },
  {
   "cell_type": "code",
   "execution_count": null,
   "metadata": {},
   "outputs": [],
   "source": [
    " df1 = tabula.read_pdf(BytesIO(d['pdf3']),pages=1,multiple_tables=True,stream = True)[0]"
   ]
  },
  {
   "cell_type": "markdown",
   "metadata": {},
   "source": [
    "# convert FITZ image to PIL"
   ]
  },
  {
   "cell_type": "code",
   "execution_count": null,
   "metadata": {},
   "outputs": [],
   "source": [
    "from PIL import Image, ImageTk\n",
    "import os\n",
    "from io import BytesIO\n",
    "import sys, fitz  # import the binding\n",
    "fname = sys.argv[1]  # get filename from command line\n",
    "doc = fitz.open(file1)  # open document\n",
    "d={}\n",
    "for i, page in enumerate( doc):  # iterate through the pages\n",
    "    zoom_x = 2.0  # horizontal zoom\n",
    "    zoom_y = 2.0  # vertical zoom\n",
    "    mat = fitz.Matrix(zoom_x, zoom_y)  # zoom factor 2 in each dimension\n",
    "    pix = page.get_pixmap(matrix=mat) # render page to an image\n",
    "    #print(pix)\n",
    "    mode = \"RGBA\" if pix.alpha else \"RGB\"\n",
    "    img = Image.frombytes(mode, [pix.width, pix.height], pix.samples)\n",
    "    #d[\"tkimg{0}\".format(i)] = ImageTk.PhotoImage(img) \n",
    "    d[\"pdf{0}\".format(i)]= pytesseract.image_to_pdf_or_hocr(img)"
   ]
  },
  {
   "cell_type": "code",
   "execution_count": null,
   "metadata": {},
   "outputs": [],
   "source": [
    "df6 = tabula.read_pdf(BytesIO(d[\"pdf4\"]),pages=1,multiple_tables=True,stream = True,pandas_options={'header':None})[0]\n",
    "#df6 = df1.iloc[:,:-2]\n",
    "df6.dropna(subset = [0], inplace=True)\n",
    "df6=df6.reset_index()\n",
    "df6.drop('index', inplace=True, axis=1)\n",
    "df6"
   ]
  },
  {
   "cell_type": "code",
   "execution_count": null,
   "metadata": {},
   "outputs": [],
   "source": [
    "df5 = tabula.read_pdf(BytesIO(d[\"pdf2\"]),pages=1,multiple_tables=True,stream = True,pandas_options={'header':None})[2]\n",
    "df5"
   ]
  }
 ],
 "metadata": {
  "kernelspec": {
   "display_name": "Python 3 (ipykernel)",
   "language": "python",
   "name": "python3"
  },
  "language_info": {
   "codemirror_mode": {
    "name": "ipython",
    "version": 3
   },
   "file_extension": ".py",
   "mimetype": "text/x-python",
   "name": "python",
   "nbconvert_exporter": "python",
   "pygments_lexer": "ipython3",
   "version": "3.9.7"
  }
 },
 "nbformat": 4,
 "nbformat_minor": 4
}
